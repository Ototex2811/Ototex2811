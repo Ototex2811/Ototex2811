{
  "nbformat": 4,
  "nbformat_minor": 0,
  "metadata": {
    "colab": {
      "provenance": [],
      "authorship_tag": "ABX9TyNfMjTKuP/U2zxTr7Zh1a+r",
      "include_colab_link": true
    },
    "kernelspec": {
      "name": "python3",
      "display_name": "Python 3"
    },
    "language_info": {
      "name": "python"
    }
  },
  "cells": [
    {
      "cell_type": "markdown",
      "metadata": {
        "id": "view-in-github",
        "colab_type": "text"
      },
      "source": [
        "<a href=\"https://colab.research.google.com/github/Ototex2811/Ototex2811/blob/main/Extract_climate_from_ERA5_Images.ipynb\" target=\"_parent\"><img src=\"https://colab.research.google.com/assets/colab-badge.svg\" alt=\"Open In Colab\"/></a>"
      ]
    },
    {
      "cell_type": "code",
      "execution_count": null,
      "metadata": {
        "id": "wkyO4XAHxf2c"
      },
      "outputs": [],
      "source": []
    },
    {
      "cell_type": "code",
      "source": [
        "# ERA5-Land Daily Data Extractor for Unique Points from GeoTIFFs (Batch Processing)\n",
        "# Extracts daily data for deduplicated points in year batches to avoid memory issues\n",
        "\n",
        "# @title ### ⚙️ Setup\n",
        "from google.colab import drive\n",
        "import xarray as xr\n",
        "import rioxarray\n",
        "import pandas as pd\n",
        "import numpy as np\n",
        "from tqdm.notebook import tqdm\n",
        "import os\n",
        "import glob\n",
        "import re\n",
        "from datetime import datetime\n",
        "\n",
        "# Mount Google Drive\n",
        "drive.mount('/content/drive')\n",
        "\n",
        "# Install rioxarray\n",
        "!pip install rioxarray\n",
        "\n",
        "# @title ### 📝 Configuration\n",
        "OUTPUT_DIR = \"/content/drive/My Drive/GEE_ERA5_Output\"\n",
        "POINTS_CSV = \"/content/drive/My Drive/230.csv\"\n",
        "OUTPUT_CSV = \"/content/drive/My Drive/GEE_ERA5_Output/germany_points_1960-2020.csv\"\n",
        "INTERMEDIATE_DIR = \"/content/drive/My Drive/GEE_ERA5_Output/intermediate\"\n",
        "\n",
        "VARIABLES = [\n",
        "    'temperature_2m', 'dewpoint_2m', 'pressure', 'precipitation', 'soil_moisture',\n",
        "    'wind_speed', 'wind_direction', 'vpd', 'rin', 'rli', 'le'\n",
        "]\n",
        "\n",
        "# Batch processing configuration\n",
        "YEAR_INTERVAL = 5  # Number of years per batch (adjustable, e.g., 1, 5, 10)\n",
        "START_YEAR = 1960\n",
        "END_YEAR = 2020\n",
        "\n",
        "# @title ### 🔍 Verify Inputs\n",
        "# Check points CSV\n",
        "if os.path.exists(POINTS_CSV):\n",
        "    points = pd.read_csv(POINTS_CSV)\n",
        "    print(f\"Points CSV: {POINTS_CSV}\")\n",
        "    print(f\"Columns: {points.columns.tolist()}\")\n",
        "    print(f\"Total points: {len(points)}\")\n",
        "    print(points.head())\n",
        "\n",
        "    # Deduplicate points based on ID, LAT, LON\n",
        "    points = points.rename(columns={'ID': 'point_id', 'LAT': 'lat', 'LON': 'lon'})\n",
        "    unique_points = points[['point_id', 'lat', 'lon']].drop_duplicates()\n",
        "    print(f\"Unique points after deduplication: {len(unique_points)}\")\n",
        "    print(unique_points.head())\n",
        "\n",
        "    # Use unique points\n",
        "    points = unique_points\n",
        "else:\n",
        "    print(f\"Points CSV not found: {POINTS_CSV}\")\n",
        "    raise FileNotFoundError(\"Please provide the points CSV.\")\n",
        "\n",
        "# Check GeoTIFFs\n",
        "tiff_files = glob.glob(f\"{OUTPUT_DIR}/germany_climate_data_daily_*.tif\")\n",
        "if tiff_files:\n",
        "    print(f\"Found {len(tiff_files)} GeoTIFFs in {OUTPUT_DIR}\")\n",
        "    # Group by year\n",
        "    year_files = {}\n",
        "    for tiff in tiff_files:\n",
        "        year = re.search(r'daily_(\\d{4})\\.tif', tiff).group(1)\n",
        "        if year not in year_files:\n",
        "            year_files[year] = []\n",
        "        year_files[year].append(tiff)\n",
        "\n",
        "    for year in sorted(year_files):\n",
        "        print(f\"Year {year}: {len(year_files[year])} GeoTIFF(s)\")\n",
        "\n",
        "    # Inspect sample GeoTIFF\n",
        "    sample_tiff = year_files[list(year_files.keys())[0]][0]\n",
        "    ds = rioxarray.open_rasterio(sample_tiff)\n",
        "    print(f\"Sample GeoTIFF: {sample_tiff}\")\n",
        "    print(f\"Dimensions: {ds.dims}\")\n",
        "    print(f\"Band count: {ds.sizes['band']}\")\n",
        "    print(f\"Sample band names (first 20): {ds.coords['band'][:20].values}\")\n",
        "    ds.close()\n",
        "else:\n",
        "    print(f\"No GeoTIFFs found in {OUTPUT_DIR}\")\n",
        "    print(\"Listing directory contents:\")\n",
        "    !ls -l \"{OUTPUT_DIR}\"\n",
        "    print(\"Listing parent directory:\")\n",
        "    !ls -l \"/content/drive/My Drive/\"\n",
        "    raise FileNotFoundError(\"Please verify GeoTIFFs exist in the correct directory.\")\n",
        "\n",
        "# @title ### 📍 Extract Data in Batches\n",
        "# Create intermediate directory\n",
        "os.makedirs(INTERMEDIATE_DIR, exist_ok=True)\n",
        "\n",
        "# Generate year batches\n",
        "year_batches = [(start, min(start + YEAR_INTERVAL - 1, END_YEAR))\n",
        "                for start in range(START_YEAR, END_YEAR + 1, YEAR_INTERVAL)]\n",
        "print(f\"Year batches: {year_batches}\")\n",
        "\n",
        "results = []\n",
        "for batch_start, batch_end in tqdm(year_batches, desc=\"Processing batches\"):\n",
        "    batch_results = []\n",
        "    batch_years = [y for y in year_files if int(y) >= batch_start and int(y) <= batch_end]\n",
        "\n",
        "    for year in tqdm(batch_years, desc=f\"Years {batch_start}-{batch_end}\", leave=False):\n",
        "        tiff = year_files[year][0]  # Single GeoTIFF per year\n",
        "        ds = rioxarray.open_rasterio(tiff)\n",
        "        ds = ds.rename({'x': 'longitude', 'y': 'latitude', 'band': 'time'})\n",
        "\n",
        "        # Calculate days based on leap year\n",
        "        year_int = int(year)\n",
        "        is_leap = (year_int % 4 == 0 and year_int % 100 != 0) or (year_int % 400 == 0)\n",
        "        days_in_year = 366 if is_leap else 365\n",
        "        days = pd.date_range(f'{year}-01-01', f'{year}-12-31', freq='D')\n",
        "\n",
        "        # Verify band count\n",
        "        expected_bands = days_in_year * len(VARIABLES)\n",
        "        actual_bands = ds.sizes['time']\n",
        "        if actual_bands != expected_bands:\n",
        "            print(f\"Warning: Year {year} has {actual_bands} bands, expected {expected_bands}\")\n",
        "            days_per_year = actual_bands // len(VARIABLES)\n",
        "            days = days[:days_per_year]\n",
        "\n",
        "        # Split bands into variables\n",
        "        var_data = {}\n",
        "        bands_per_day = len(VARIABLES)\n",
        "        for i, var in enumerate(VARIABLES):\n",
        "            var_data[var] = ds.isel(time=slice(i, None, bands_per_day))\n",
        "            var_data[var] = var_data[var].assign_coords(time=days)\n",
        "\n",
        "        # Create dataset\n",
        "        ds_year = xr.Dataset(\n",
        "            {var: (['time', 'latitude', 'longitude'], var_data[var].values) for var in VARIABLES},\n",
        "            coords={'time': days, 'latitude': ds.latitude, 'longitude': ds.longitude}\n",
        "        )\n",
        "\n",
        "        # Extract data for points\n",
        "        for _, row in points.iterrows():\n",
        "            point_data = ds_year.sel(\n",
        "                latitude=row['lat'],\n",
        "                longitude=row['lon'],\n",
        "                method='nearest'\n",
        "            )\n",
        "            point_df = point_data.to_dataframe().reset_index()\n",
        "            point_df['point_id'] = row['point_id']\n",
        "            point_df['lat'] = row['lat']\n",
        "            point_df['lon'] = row['lon']\n",
        "            batch_results.append(point_df)\n",
        "\n",
        "        # Free memory\n",
        "        ds.close()\n",
        "        ds_year.close()\n",
        "        del ds, ds_year, var_data\n",
        "\n",
        "    # Save intermediate CSV for the batch\n",
        "    if batch_results:\n",
        "        batch_df = pd.concat(batch_results, ignore_index=True)\n",
        "        columns = ['point_id', 'lat', 'lon', 'time'] + VARIABLES\n",
        "        batch_df = batch_df[columns]\n",
        "        batch_csv = f\"{INTERMEDIATE_DIR}/germany_points_{batch_start}-{batch_end}.csv\"\n",
        "        batch_df.to_csv(batch_csv, index=False)\n",
        "        print(f\"Saved intermediate CSV: {batch_csv}, Rows: {len(batch_df)}\")\n",
        "        results.append(batch_df)\n",
        "        del batch_df, batch_results\n",
        "\n",
        "# Combine all intermediate CSVs\n",
        "if results:\n",
        "    final_df = pd.concat(results, ignore_index=True)\n",
        "    final_df = final_df[columns]\n",
        "    os.makedirs(os.path.dirname(OUTPUT_CSV), exist_ok=True)\n",
        "    final_df.to_csv(OUTPUT_CSV, index=False)\n",
        "    print(f\"Saved final CSV: {OUTPUT_CSV}\")\n",
        "    print(f\"Rows: {len(final_df)}\")\n",
        "    print(final_df.head())\n",
        "else:\n",
        "    print(\"No data processed. Check intermediate CSVs or input files.\")\n",
        "\n",
        "# @title ### 📊 Verify Output\n",
        "if os.path.exists(OUTPUT_CSV):\n",
        "    output_df = pd.read_csv(OUTPUT_CSV)\n",
        "    print(f\"Output CSV: {OUTPUT_CSV}\")\n",
        "    print(f\"Columns: {output_df.columns.tolist()}\")\n",
        "    print(f\"Rows: {len(output_df)}\")\n",
        "    print(output_df.head())\n",
        "else:\n",
        "    print(f\"Output CSV not created: {OUTPUT_CSV}\")\n",
        "    print(\"Listing intermediate CSVs:\")\n",
        "    !ls -l \"{INTERMEDIATE_DIR}\""
      ],
      "metadata": {
        "colab": {
          "base_uri": "https://localhost:8080/",
          "height": 1000,
          "referenced_widgets": [
            "f62c1eb0381f4f86adf721316d386b32",
            "2d8b5b58cec64a2ab42b8ceb318a9d7f",
            "8c6c075ba73e47cda9eb57bfa32b2078",
            "f2e90a6a3c88470da9ad2bc777a055c6",
            "b87d816f272e433bae3b523ecee21345",
            "22b2fe53a5854ad08397c75aa9680a47",
            "8ca9a8696c1341bb81d3a34227aa592b",
            "c0b5591ad0ff4996b2c028e86938512c",
            "20a8ee14a1714bbbaed08bad861d4664",
            "522e96068cba4079bce4aa35a149fad3",
            "f4d1444d3ae746539a795d9b29a3cafb",
            "a355ca4ef0044462b6e0c0b968982481",
            "8939de579dce4e2d96fff2998d9b30ae",
            "f143adbd41204589a0e25e50c3391ea5",
            "b68a910779b4428b89b75ebf9cab9939",
            "4f2b0e4811f7470c8a4059ddb40691f0",
            "a09a8d1d63f24e678bd8c6620ea9baca",
            "8b6c112596a04e409ccc68b901dc2df0",
            "d56ef6dd05dd46f58f86fe8744c41e9b",
            "a179235da93e4ebd8aaa3ac579165e61",
            "e8beb4b8b0e14e9cae81966dfa6d2105",
            "2542281486484e42b9a480bc46dbb556",
            "3490178a4d134e1896cc788eb82c4177",
            "1bc34f110301431f90435e5c8483c02e",
            "ee04ee54c4df455da3ee1d1a1549564e",
            "4f903f5e37984f0aac32c8d9b53726ef",
            "461b7eb352d845f5884d9c937e0c1281",
            "fffca8f012894cccbe89de630ef494ea",
            "91142581561449d699c5afaece748c83",
            "4568bc73b5c04ab69c1c9970e47e649b",
            "ab7ff1857d0d4e7187d5866780c04802",
            "b9bdfa3544854011866d0072d17404b5",
            "0c5a3b2d6c7c4f368c43249a888e5979",
            "9729748aeecc4e31b371c2cdc0482fae",
            "58bd565a1bc5434c90064c12448ddb9c",
            "93c068f7b42d491cab652669872cc783",
            "3e83c3e6f1244e20ab829a1b220aaf6e",
            "a1498386a7cd4feea1ef12b6f7640e0e",
            "295baeb6cfba4bf38c07fb1675557386",
            "553ab7b3aa564b8dbf5678a1bbc77ea3",
            "8ab677b1f96f46b4b4ca005e695dfe84",
            "28f565b6dcaa4e16ac442e8dbc5e25d5",
            "1632711f927c40a89feb5161eb93ca65",
            "603697a33fe040f18a9a302f68ccb641",
            "2044883d182040508ba365ff97c46ea7",
            "345da60eff1c4e54be6bcd142b4013e0",
            "389bab959c274e6fa8d5ddc76c27e9d3",
            "429e8c2a45d843268eba352ae108875e",
            "4a129c366d5c4713a68e15fce0a4d1e3",
            "0a316d2fc35e4e72a8754e798127a44d",
            "9ad0f402a2ee497689799be20a7f830f",
            "f28db2cafd404ad3838442f1fbb04914",
            "1f5354d05bb84735bde0911271870f55",
            "f0557aba178b4aa985d23bf47f3784f9",
            "d64acd0917294246ba206102b1dae87f",
            "67c34849e9cc4597bc474230594b05f9",
            "9f2d684f2a7242768b06ad43085a9af0",
            "64628674ee884f7c966889e60b48da6c",
            "3c665127b12c4f7abddbeb8930acfe8f",
            "18194e7a60a74defa3a7a93690790f38",
            "11d7d3f7d49543a78ae7c0c857dda228",
            "c608d66aaecd4e6ba42237a03eeada60",
            "59085c1bcbee493187df92e18a8386f3",
            "4821ab351b4c461687d1137f8dbf0dcc",
            "0d190671a7c64756befbfa433f22a30d",
            "e768103e2ffc48b082a23b24194b0c71",
            "2f8d30fb55074eeea0044f81396665c2",
            "b370a32ef67c4c439a2e6b8939963028",
            "57d5932e7f5a49518fb8403bc8ba7387",
            "255f81272bf944f4bea260ba1995ca43",
            "c28385c9b6ec4b8abe0e5f432af06bcd",
            "7ec6bd66c30144c785ea39fc75f7c0b7",
            "7010414015874b9c87a0ced5b5a97081",
            "7307baa09b0844138d400f3289d82ab2",
            "1fcc6cefd57945e78a0cd64f84986399",
            "8bf1c882f0c74f1da539e29029e1e89c",
            "98b658aa03e94da4981da91ba737fed0",
            "c7fb92528dac48178dbe8066000330df",
            "510f4447e92e4c11a96939bd34c2d5c7",
            "846fd2831ff6456d98ea1234704db2b2",
            "aab4703801bd4161acfb091b0359d487",
            "8593d1d34cbc494e897f90c72ef87059",
            "3ebcfbc773c747e08212c70ae8e8bad3",
            "a4d4fdcfecb747c29a05078bbf8b20ff",
            "92df85c847334767983ffbedaa44dc03",
            "541537dac8e44666ae41c891e48d3f76",
            "1adf052431534d639c05dfb0bc0aef28",
            "301e5280d47741e2b52627250e1f160d",
            "3019a97da2bc44d2ba5769db916f22c2",
            "309fb52aa3124e9f8e706ba900b3257b",
            "b31563e2c6254a688d7a107ffb85d6ef",
            "5907af0ec61d40a9aabe212d93e11de6",
            "21af38d1f3e34c03a9c8c6a843c1370f",
            "ad479763156e4e89beb2a7a9e7972727",
            "26062286a25745f7997aa494486eb054",
            "9c14110d607a4121909feab0c06b7e55",
            "dfef4e0b37eb4d8e99012a9911c4e621",
            "dd199571f7ce40ba94cea792105cf9fc",
            "1ed19200d8044c80acbb445bdd0cd604",
            "6e68e60e99a044ec9725b3a9dd673ecf",
            "6e2af80bb9014f7ea38fe9a59420968a",
            "c95fbed7292645b3933d09069aa64f3f",
            "ab2e9bd0e9df4b9e9eb4ddab396d09df",
            "f4fb60fa7efd47488ab37e429b6b0803"
          ]
        },
        "id": "dOn10OKV1WGO",
        "outputId": "c2c72924-973a-4ea1-a71f-f3ab5c2204f3"
      },
      "execution_count": null,
      "outputs": [
        {
          "metadata": {
            "tags": null
          },
          "name": "stdout",
          "output_type": "stream",
          "text": [
            "Mounted at /content/drive\n",
            "Requirement already satisfied: rioxarray in /usr/local/lib/python3.11/dist-packages (0.18.2)\n",
            "Requirement already satisfied: packaging in /usr/local/lib/python3.11/dist-packages (from rioxarray) (24.2)\n",
            "Requirement already satisfied: rasterio>=1.3.7 in /usr/local/lib/python3.11/dist-packages (from rioxarray) (1.4.3)\n",
            "Requirement already satisfied: xarray>=2024.7.0 in /usr/local/lib/python3.11/dist-packages (from rioxarray) (2025.3.1)\n",
            "Requirement already satisfied: pyproj>=3.3 in /usr/local/lib/python3.11/dist-packages (from rioxarray) (3.7.1)\n",
            "Requirement already satisfied: numpy>=1.23 in /usr/local/lib/python3.11/dist-packages (from rioxarray) (2.0.2)\n",
            "Requirement already satisfied: certifi in /usr/local/lib/python3.11/dist-packages (from pyproj>=3.3->rioxarray) (2025.1.31)\n",
            "Requirement already satisfied: affine in /usr/local/lib/python3.11/dist-packages (from rasterio>=1.3.7->rioxarray) (2.4.0)\n",
            "Requirement already satisfied: attrs in /usr/local/lib/python3.11/dist-packages (from rasterio>=1.3.7->rioxarray) (25.3.0)\n",
            "Requirement already satisfied: click>=4.0 in /usr/local/lib/python3.11/dist-packages (from rasterio>=1.3.7->rioxarray) (8.1.8)\n",
            "Requirement already satisfied: cligj>=0.5 in /usr/local/lib/python3.11/dist-packages (from rasterio>=1.3.7->rioxarray) (0.7.2)\n",
            "Requirement already satisfied: click-plugins in /usr/local/lib/python3.11/dist-packages (from rasterio>=1.3.7->rioxarray) (1.1.1)\n",
            "Requirement already satisfied: pyparsing in /usr/local/lib/python3.11/dist-packages (from rasterio>=1.3.7->rioxarray) (3.2.3)\n",
            "Requirement already satisfied: pandas>=2.1 in /usr/local/lib/python3.11/dist-packages (from xarray>=2024.7.0->rioxarray) (2.2.2)\n",
            "Requirement already satisfied: python-dateutil>=2.8.2 in /usr/local/lib/python3.11/dist-packages (from pandas>=2.1->xarray>=2024.7.0->rioxarray) (2.9.0.post0)\n",
            "Requirement already satisfied: pytz>=2020.1 in /usr/local/lib/python3.11/dist-packages (from pandas>=2.1->xarray>=2024.7.0->rioxarray) (2025.2)\n",
            "Requirement already satisfied: tzdata>=2022.7 in /usr/local/lib/python3.11/dist-packages (from pandas>=2.1->xarray>=2024.7.0->rioxarray) (2025.2)\n",
            "Requirement already satisfied: six>=1.5 in /usr/local/lib/python3.11/dist-packages (from python-dateutil>=2.8.2->pandas>=2.1->xarray>=2024.7.0->rioxarray) (1.17.0)\n",
            "Points CSV: /content/drive/My Drive/230.csv\n",
            "Columns: ['ID', 'LAT', 'LON']\n",
            "Total points: 12198\n",
            "     ID      LAT       LON\n",
            "0  3213  48.0833   7.63333\n",
            "1  4641  49.4167   6.91667\n",
            "2  2241  51.1333   9.01667\n",
            "3  1980  49.7167   8.83333\n",
            "4  4266  49.0167  11.11670\n",
            "Unique points after deduplication: 229\n",
            "   point_id      lat       lon\n",
            "0      3213  48.0833   7.63333\n",
            "1      4641  49.4167   6.91667\n",
            "2      2241  51.1333   9.01667\n",
            "3      1980  49.7167   8.83333\n",
            "4      4266  49.0167  11.11670\n",
            "Found 61 GeoTIFFs in /content/drive/My Drive/GEE_ERA5_Output\n",
            "Year 1960: 1 GeoTIFF(s)\n",
            "Year 1961: 1 GeoTIFF(s)\n",
            "Year 1962: 1 GeoTIFF(s)\n",
            "Year 1963: 1 GeoTIFF(s)\n",
            "Year 1964: 1 GeoTIFF(s)\n",
            "Year 1965: 1 GeoTIFF(s)\n",
            "Year 1966: 1 GeoTIFF(s)\n",
            "Year 1967: 1 GeoTIFF(s)\n",
            "Year 1968: 1 GeoTIFF(s)\n",
            "Year 1969: 1 GeoTIFF(s)\n",
            "Year 1970: 1 GeoTIFF(s)\n",
            "Year 1971: 1 GeoTIFF(s)\n",
            "Year 1972: 1 GeoTIFF(s)\n",
            "Year 1973: 1 GeoTIFF(s)\n",
            "Year 1974: 1 GeoTIFF(s)\n",
            "Year 1975: 1 GeoTIFF(s)\n",
            "Year 1976: 1 GeoTIFF(s)\n",
            "Year 1977: 1 GeoTIFF(s)\n",
            "Year 1978: 1 GeoTIFF(s)\n",
            "Year 1979: 1 GeoTIFF(s)\n",
            "Year 1980: 1 GeoTIFF(s)\n",
            "Year 1981: 1 GeoTIFF(s)\n",
            "Year 1982: 1 GeoTIFF(s)\n",
            "Year 1983: 1 GeoTIFF(s)\n",
            "Year 1984: 1 GeoTIFF(s)\n",
            "Year 1985: 1 GeoTIFF(s)\n",
            "Year 1986: 1 GeoTIFF(s)\n",
            "Year 1987: 1 GeoTIFF(s)\n",
            "Year 1988: 1 GeoTIFF(s)\n",
            "Year 1989: 1 GeoTIFF(s)\n",
            "Year 1990: 1 GeoTIFF(s)\n",
            "Year 1991: 1 GeoTIFF(s)\n",
            "Year 1992: 1 GeoTIFF(s)\n",
            "Year 1993: 1 GeoTIFF(s)\n",
            "Year 1994: 1 GeoTIFF(s)\n",
            "Year 1995: 1 GeoTIFF(s)\n",
            "Year 1996: 1 GeoTIFF(s)\n",
            "Year 1997: 1 GeoTIFF(s)\n",
            "Year 1998: 1 GeoTIFF(s)\n",
            "Year 1999: 1 GeoTIFF(s)\n",
            "Year 2000: 1 GeoTIFF(s)\n",
            "Year 2001: 1 GeoTIFF(s)\n",
            "Year 2002: 1 GeoTIFF(s)\n",
            "Year 2003: 1 GeoTIFF(s)\n",
            "Year 2004: 1 GeoTIFF(s)\n",
            "Year 2005: 1 GeoTIFF(s)\n",
            "Year 2006: 1 GeoTIFF(s)\n",
            "Year 2007: 1 GeoTIFF(s)\n",
            "Year 2008: 1 GeoTIFF(s)\n",
            "Year 2009: 1 GeoTIFF(s)\n",
            "Year 2010: 1 GeoTIFF(s)\n",
            "Year 2011: 1 GeoTIFF(s)\n",
            "Year 2012: 1 GeoTIFF(s)\n",
            "Year 2013: 1 GeoTIFF(s)\n",
            "Year 2014: 1 GeoTIFF(s)\n",
            "Year 2015: 1 GeoTIFF(s)\n",
            "Year 2016: 1 GeoTIFF(s)\n",
            "Year 2017: 1 GeoTIFF(s)\n",
            "Year 2018: 1 GeoTIFF(s)\n",
            "Year 2019: 1 GeoTIFF(s)\n",
            "Year 2020: 1 GeoTIFF(s)\n",
            "Sample GeoTIFF: /content/drive/My Drive/GEE_ERA5_Output/germany_climate_data_daily_1971.tif\n",
            "Dimensions: ('band', 'y', 'x')\n",
            "Band count: 4015\n",
            "Sample band names (first 20): [ 1  2  3  4  5  6  7  8  9 10 11 12 13 14 15 16 17 18 19 20]\n",
            "Year batches: [(1960, 1964), (1965, 1969), (1970, 1974), (1975, 1979), (1980, 1984), (1985, 1989), (1990, 1994), (1995, 1999), (2000, 2004), (2005, 2009), (2010, 2014), (2015, 2019), (2020, 2020)]\n"
          ]
        },
        {
          "data": {
            "application/vnd.jupyter.widget-view+json": {
              "model_id": "f62c1eb0381f4f86adf721316d386b32",
              "version_major": 2,
              "version_minor": 0
            },
            "text/plain": [
              "Processing batches:   0%|          | 0/13 [00:00<?, ?it/s]"
            ]
          },
          "metadata": {},
          "output_type": "display_data"
        },
        {
          "data": {
            "application/vnd.jupyter.widget-view+json": {
              "model_id": "a355ca4ef0044462b6e0c0b968982481",
              "version_major": 2,
              "version_minor": 0
            },
            "text/plain": [
              "Years 1960-1964:   0%|          | 0/5 [00:00<?, ?it/s]"
            ]
          },
          "metadata": {},
          "output_type": "display_data"
        },
        {
          "metadata": {
            "tags": null
          },
          "name": "stdout",
          "output_type": "stream",
          "text": [
            "Saved intermediate CSV: /content/drive/My Drive/GEE_ERA5_Output/intermediate/germany_points_1960-1964.csv, Rows: 418383\n"
          ]
        },
        {
          "data": {
            "application/vnd.jupyter.widget-view+json": {
              "model_id": "3490178a4d134e1896cc788eb82c4177",
              "version_major": 2,
              "version_minor": 0
            },
            "text/plain": [
              "Years 1965-1969:   0%|          | 0/5 [00:00<?, ?it/s]"
            ]
          },
          "metadata": {},
          "output_type": "display_data"
        },
        {
          "metadata": {
            "tags": null
          },
          "name": "stdout",
          "output_type": "stream",
          "text": [
            "Saved intermediate CSV: /content/drive/My Drive/GEE_ERA5_Output/intermediate/germany_points_1965-1969.csv, Rows: 418154\n"
          ]
        },
        {
          "data": {
            "application/vnd.jupyter.widget-view+json": {
              "model_id": "9729748aeecc4e31b371c2cdc0482fae",
              "version_major": 2,
              "version_minor": 0
            },
            "text/plain": [
              "Years 1970-1974:   0%|          | 0/5 [00:00<?, ?it/s]"
            ]
          },
          "metadata": {},
          "output_type": "display_data"
        },
        {
          "metadata": {
            "tags": null
          },
          "name": "stdout",
          "output_type": "stream",
          "text": [
            "Saved intermediate CSV: /content/drive/My Drive/GEE_ERA5_Output/intermediate/germany_points_1970-1974.csv, Rows: 418154\n"
          ]
        },
        {
          "data": {
            "application/vnd.jupyter.widget-view+json": {
              "model_id": "2044883d182040508ba365ff97c46ea7",
              "version_major": 2,
              "version_minor": 0
            },
            "text/plain": [
              "Years 1975-1979:   0%|          | 0/5 [00:00<?, ?it/s]"
            ]
          },
          "metadata": {},
          "output_type": "display_data"
        },
        {
          "metadata": {
            "tags": null
          },
          "name": "stdout",
          "output_type": "stream",
          "text": [
            "Saved intermediate CSV: /content/drive/My Drive/GEE_ERA5_Output/intermediate/germany_points_1975-1979.csv, Rows: 418154\n"
          ]
        },
        {
          "data": {
            "application/vnd.jupyter.widget-view+json": {
              "model_id": "67c34849e9cc4597bc474230594b05f9",
              "version_major": 2,
              "version_minor": 0
            },
            "text/plain": [
              "Years 1980-1984:   0%|          | 0/5 [00:00<?, ?it/s]"
            ]
          },
          "metadata": {},
          "output_type": "display_data"
        },
        {
          "metadata": {
            "tags": null
          },
          "name": "stdout",
          "output_type": "stream",
          "text": [
            "Saved intermediate CSV: /content/drive/My Drive/GEE_ERA5_Output/intermediate/germany_points_1980-1984.csv, Rows: 418383\n"
          ]
        },
        {
          "data": {
            "application/vnd.jupyter.widget-view+json": {
              "model_id": "2f8d30fb55074eeea0044f81396665c2",
              "version_major": 2,
              "version_minor": 0
            },
            "text/plain": [
              "Years 1985-1989:   0%|          | 0/5 [00:00<?, ?it/s]"
            ]
          },
          "metadata": {},
          "output_type": "display_data"
        },
        {
          "metadata": {
            "tags": null
          },
          "name": "stdout",
          "output_type": "stream",
          "text": [
            "Saved intermediate CSV: /content/drive/My Drive/GEE_ERA5_Output/intermediate/germany_points_1985-1989.csv, Rows: 418154\n"
          ]
        },
        {
          "data": {
            "application/vnd.jupyter.widget-view+json": {
              "model_id": "c7fb92528dac48178dbe8066000330df",
              "version_major": 2,
              "version_minor": 0
            },
            "text/plain": [
              "Years 1990-1994:   0%|          | 0/5 [00:00<?, ?it/s]"
            ]
          },
          "metadata": {},
          "output_type": "display_data"
        },
        {
          "metadata": {
            "tags": null
          },
          "name": "stdout",
          "output_type": "stream",
          "text": [
            "Saved intermediate CSV: /content/drive/My Drive/GEE_ERA5_Output/intermediate/germany_points_1990-1994.csv, Rows: 418154\n"
          ]
        },
        {
          "data": {
            "application/vnd.jupyter.widget-view+json": {
              "model_id": "3019a97da2bc44d2ba5769db916f22c2",
              "version_major": 2,
              "version_minor": 0
            },
            "text/plain": [
              "Years 1995-1999:   0%|          | 0/5 [00:00<?, ?it/s]"
            ]
          },
          "metadata": {},
          "output_type": "display_data"
        },
        {
          "metadata": {
            "tags": null
          },
          "name": "stdout",
          "output_type": "stream",
          "text": [
            "Saved intermediate CSV: /content/drive/My Drive/GEE_ERA5_Output/intermediate/germany_points_1995-1999.csv, Rows: 418154\n"
          ]
        },
        {
          "data": {
            "application/vnd.jupyter.widget-view+json": {
              "model_id": "6e68e60e99a044ec9725b3a9dd673ecf",
              "version_major": 2,
              "version_minor": 0
            },
            "text/plain": [
              "Years 2000-2004:   0%|          | 0/5 [00:00<?, ?it/s]"
            ]
          },
          "metadata": {},
          "output_type": "display_data"
        },
        {
          "metadata": {
            "tags": null
          },
          "name": "stdout",
          "output_type": "stream",
          "text": [
            "Saved intermediate CSV: /content/drive/My Drive/GEE_ERA5_Output/intermediate/germany_points_2000-2004.csv, Rows: 418383\n"
          ]
        },
        {
          "data": {
            "application/vnd.jupyter.widget-view+json": {
              "model_id": "6e2af80bb9014f7ea38fe9a59420968a",
              "version_major": 2,
              "version_minor": 0
            },
            "text/plain": [
              "Years 2005-2009:   0%|          | 0/5 [00:00<?, ?it/s]"
            ]
          },
          "metadata": {},
          "output_type": "display_data"
        },
        {
          "metadata": {
            "tags": null
          },
          "name": "stdout",
          "output_type": "stream",
          "text": [
            "Saved intermediate CSV: /content/drive/My Drive/GEE_ERA5_Output/intermediate/germany_points_2005-2009.csv, Rows: 418154\n"
          ]
        },
        {
          "data": {
            "application/vnd.jupyter.widget-view+json": {
              "model_id": "c95fbed7292645b3933d09069aa64f3f",
              "version_major": 2,
              "version_minor": 0
            },
            "text/plain": [
              "Years 2010-2014:   0%|          | 0/5 [00:00<?, ?it/s]"
            ]
          },
          "metadata": {},
          "output_type": "display_data"
        },
        {
          "metadata": {
            "tags": null
          },
          "name": "stdout",
          "output_type": "stream",
          "text": [
            "Saved intermediate CSV: /content/drive/My Drive/GEE_ERA5_Output/intermediate/germany_points_2010-2014.csv, Rows: 418154\n"
          ]
        },
        {
          "data": {
            "application/vnd.jupyter.widget-view+json": {
              "model_id": "ab2e9bd0e9df4b9e9eb4ddab396d09df",
              "version_major": 2,
              "version_minor": 0
            },
            "text/plain": [
              "Years 2015-2019:   0%|          | 0/5 [00:00<?, ?it/s]"
            ]
          },
          "metadata": {},
          "output_type": "display_data"
        },
        {
          "metadata": {
            "tags": null
          },
          "name": "stdout",
          "output_type": "stream",
          "text": [
            "Saved intermediate CSV: /content/drive/My Drive/GEE_ERA5_Output/intermediate/germany_points_2015-2019.csv, Rows: 418154\n"
          ]
        },
        {
          "data": {
            "application/vnd.jupyter.widget-view+json": {
              "model_id": "f4fb60fa7efd47488ab37e429b6b0803",
              "version_major": 2,
              "version_minor": 0
            },
            "text/plain": [
              "Years 2020-2020:   0%|          | 0/1 [00:00<?, ?it/s]"
            ]
          },
          "metadata": {},
          "output_type": "display_data"
        },
        {
          "output_type": "stream",
          "name": "stdout",
          "text": [
            "Saved intermediate CSV: /content/drive/My Drive/GEE_ERA5_Output/intermediate/germany_points_2020-2020.csv, Rows: 83814\n",
            "Saved final CSV: /content/drive/My Drive/GEE_ERA5_Output/germany_points_1960-2020.csv\n",
            "Rows: 5102349\n",
            "   point_id      lat      lon       time  temperature_2m  dewpoint_2m  \\\n",
            "0    3213.0  48.0833  7.63333 1962-01-01      273.693233    -0.451600   \n",
            "1    3213.0  48.0833  7.63333 1962-01-02      271.403597    -3.014711   \n",
            "2    3213.0  48.0833  7.63333 1962-01-03      265.990917    -9.197239   \n",
            "3    3213.0  48.0833  7.63333 1962-01-04      272.020940    -2.816962   \n",
            "4    3213.0  48.0833  7.63333 1962-01-05      273.849033    -1.478681   \n",
            "\n",
            "     pressure  precipitation  soil_moisture  wind_speed  wind_direction  \\\n",
            "0  986.861193       2.024975       0.440536    1.318640      -81.760762   \n",
            "1  990.620428       7.737735       0.440770    3.031445      -94.126968   \n",
            "2  992.183755       0.477300       0.441024    2.399765      -92.304761   \n",
            "3  995.645692       1.337102       0.441285    0.833222      -96.229028   \n",
            "4  998.702520       0.140425       0.441552    0.247186     -114.211288   \n",
            "\n",
            "        vpd        rin         rli        le  \n",
            "0  0.443507  13.809614  150.084583  2.461573  \n",
            "1  0.482944  14.424640  152.524805  3.783091  \n",
            "2  0.524951  30.636738  116.971382  0.549557  \n",
            "3  0.660261  26.739275  147.862124  2.929067  \n",
            "4  0.944503  15.165379  158.315728  0.827218  \n",
            "Output CSV: /content/drive/My Drive/GEE_ERA5_Output/germany_points_1960-2020.csv\n",
            "Columns: ['point_id', 'lat', 'lon', 'time', 'temperature_2m', 'dewpoint_2m', 'pressure', 'precipitation', 'soil_moisture', 'wind_speed', 'wind_direction', 'vpd', 'rin', 'rli', 'le']\n",
            "Rows: 5102349\n",
            "   point_id      lat      lon        time  temperature_2m  dewpoint_2m  \\\n",
            "0    3213.0  48.0833  7.63333  1962-01-01      273.693233    -0.451600   \n",
            "1    3213.0  48.0833  7.63333  1962-01-02      271.403597    -3.014711   \n",
            "2    3213.0  48.0833  7.63333  1962-01-03      265.990917    -9.197239   \n",
            "3    3213.0  48.0833  7.63333  1962-01-04      272.020940    -2.816962   \n",
            "4    3213.0  48.0833  7.63333  1962-01-05      273.849033    -1.478681   \n",
            "\n",
            "     pressure  precipitation  soil_moisture  wind_speed  wind_direction  \\\n",
            "0  986.861193       2.024975       0.440536    1.318640      -81.760762   \n",
            "1  990.620428       7.737735       0.440770    3.031445      -94.126968   \n",
            "2  992.183755       0.477300       0.441024    2.399765      -92.304761   \n",
            "3  995.645692       1.337102       0.441285    0.833222      -96.229028   \n",
            "4  998.702520       0.140425       0.441552    0.247186     -114.211288   \n",
            "\n",
            "        vpd        rin         rli        le  \n",
            "0  0.443507  13.809614  150.084583  2.461573  \n",
            "1  0.482944  14.424640  152.524805  3.783091  \n",
            "2  0.524951  30.636738  116.971382  0.549557  \n",
            "3  0.660261  26.739275  147.862124  2.929067  \n",
            "4  0.944503  15.165379  158.315728  0.827218  \n"
          ]
        }
      ]
    }
  ]
}